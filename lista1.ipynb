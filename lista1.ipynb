{
 "cells": [
  {
   "cell_type": "markdown",
   "metadata": {},
   "source": [
    "<h1 style=\"text-align:center;\">Introdução à Otimização &ndash; Professor Amit Bhaya &ndash; 2023/2</h1>\n",
    "<h2 style=\"text-align:center;\">Lista 1</h2>\n",
    "<h2 style=\"text-align:center;\">Entrega: 04 de setembro de 2023"
   ]
  },
  {
   "cell_type": "code",
   "execution_count": 1,
   "metadata": {},
   "outputs": [
    {
     "name": "stdout",
     "output_type": "stream",
     "text": [
      "  4.982237 seconds (3.83 M allocations: 232.158 MiB, 3.11% gc time, 15.91% compilation time: 97% of which was recompilation)\n"
     ]
    },
    {
     "name": "stdout",
     "output_type": "stream",
     "text": [
      "  0.742407 seconds (620.95 k allocations: 38.896 MiB, 3.88% gc time, 23.81% compilation time: 100% of which was recompilation)\n"
     ]
    },
    {
     "name": "stdout",
     "output_type": "stream",
     "text": [
      "  7.518657 seconds (3.44 M allocations: 232.462 MiB, 1.86% gc time, 39.99% compilation time: 98% of which was recompilation)\n"
     ]
    },
    {
     "name": "stdout",
     "output_type": "stream",
     "text": [
      "  0.172481 seconds (90.86 k allocations: 6.420 MiB, 97.84% compilation time: 100% of which was recompilation)\n"
     ]
    }
   ],
   "source": [
    "@time using Clp\n",
    "@time using JuMP\n",
    "@time using PyPlot\n",
    "@time using LinearAlgebra\n"
   ]
  },
  {
   "cell_type": "code",
   "execution_count": 2,
   "metadata": {},
   "outputs": [],
   "source": [
    "@time using Plots"
   ]
  },
  {
   "cell_type": "code",
   "execution_count": null,
   "metadata": {},
   "outputs": [],
   "source": [
    "versioninfo()"
   ]
  },
  {
   "cell_type": "markdown",
   "metadata": {},
   "source": [
    "## Problema 1: \n",
    "\n",
    "Considere o problema de otimização abaixo:\n",
    "\n",
    "\\begin{align}\n",
    "& \\text{maximize}_{u,v,w} \\quad -u + v - w \\\\\n",
    "& \\text{sujeito a} \\quad -5u + 5v + 3w \\leq 10 \\\\\n",
    "& \\qquad 5u - 5v - 3w \\leq 10 \\\\\n",
    "& \\qquad -2u + 2v - w \\leq -1 \\\\\n",
    "& \\qquad \\qquad w \\leq 3 \\\\\n",
    "& \\qquad u,v,w \\geq 0\n",
    "\\end{align}\n",
    " - Resolva o programa linear (PL), utilizando JuMP/Julia.\n",
    " - Transforme o PL abaixo à forma padrão $\\max {c}^\\top {x}$, sujeito a ${Ax}\\leq {b}, {x}\\geq 0$. Resolva de novo em JuMP, utilizando a forma padrão matricial. Compare as duas soluções obtidas."
   ]
  },
  {
   "cell_type": "markdown",
   "metadata": {},
   "source": [
    "### Solução do problem 1:"
   ]
  },
  {
   "cell_type": "code",
   "execution_count": null,
   "metadata": {},
   "outputs": [],
   "source": [
    "#Primeira parte (Forma apresentada)\n",
    "\n",
    "using JuMP, Clp\n",
    "\n",
    "m = Model(Clp.Optimizer)  #Nome do modelo e otimizador (algoritmo)\n",
    "\n",
    "@variable(m, 0<= w <= 3)  \n",
    "@variable(m, 0<= u)   \n",
    "@variable(m, 0<= v)   \n",
    "@constraint(m,-5u + 5v+3w <= 10)\n",
    "@constraint(m,5u - 5v-3w <= 10)\n",
    "@constraint(m,-2u + 2v - w <= -1)\n",
    "@objective(m, Max, -u +v -w)\n",
    "\n",
    "optimize!(m)\n",
    "print(m)\n",
    "println(\"Valor de u =\", JuMP.value.(u))\n",
    "println(\"Valor de v =\", JuMP.value.(v))\n",
    "println(\"Valor de w =\", JuMP.value.(w))\n",
    "\n",
    "println(\"Valor Max será\", JuMP.objective_value.(m))\n",
    "\n"
   ]
  },
  {
   "cell_type": "code",
   "execution_count": null,
   "metadata": {},
   "outputs": [],
   "source": [
    "#Segunda parte (Forma Standard)\n",
    "\n",
    "# we defined the vector x to be: x = [u;  v;  w]\n",
    "A = [0 0 1; -5 5 3; 5 -5 -3; -2 2 -1]\n",
    "b = [3; 10; 10; -1]\n",
    "c = [-1; 1; -1]\n",
    "\n",
    "using JuMP, Clp\n",
    "using LinearAlgebra\n",
    "\n",
    "m = Model(Clp.Optimizer)\n",
    "@variable(m, x[1:3] >= 0 )      \n",
    "@constraint(m, A*x .<= b )      \n",
    "@objective(m, Max, dot(c,x) )  \n",
    "\n",
    "optimize!(m)\n",
    "print(m)\n",
    "\n",
    "#println(status)\n",
    "println(\"Valor de u =\", JuMP.value.(x[1]))\n",
    "println(\"Valor de v =\", JuMP.value.(x[2]))\n",
    "println(\"Valor de w =\", JuMP.value.(x[3]))\n",
    "\n",
    "println(\"Valor Max será\", JuMP.objective_value.(m))"
   ]
  },
  {
   "cell_type": "markdown",
   "metadata": {},
   "source": [
    "#Compare as duas soluções obtidas.\n",
    "\n",
    "As duas soluções obtidas se mostraram igual na resposta, porém o tempo de resposta da forma matricial foi menor"
   ]
  },
  {
   "cell_type": "markdown",
   "metadata": {},
   "source": [
    "## Problema 2: \n",
    "\n",
    "Considere o LP\n",
    "\\begin{align}\n",
    "& \\text{minimize}\\quad c_1 x_1 + c_2 x_2 + c_3 x_3 \\\\\n",
    "& \\text{sujeito a}\\quad x_1 + x_2 \\geq 1 \\\\\n",
    "& \\qquad x_1 + 2x_2 \\leq 3 \\\\\n",
    "& \\qquad x_1,x_2,x_3 \\geq 0\n",
    "\\end{align}\n",
    "Dê o valor ótimo e o conjunto ótimo para os seguintes valores de $c$: $c=(-1,0,1),c=(0,1,0),c=(0,0,-1)$."
   ]
  },
  {
   "cell_type": "markdown",
   "metadata": {},
   "source": [
    "### Solução do problema 2:"
   ]
  },
  {
   "cell_type": "code",
   "execution_count": 9,
   "metadata": {},
   "outputs": [
    {
     "name": "stdout",
     "output_type": "stream",
     "text": [
      "Valor ótimo = -3.0\n",
      "Valor ótimo = 0.0\n",
      "Valor ótimo = -5.0e10\n"
     ]
    },
    {
     "name": "stdout",
     "output_type": "stream",
     "text": [
      "Coin0506I Presolve 0 (-2) rows, 0 (-3) columns and 0 (-4) elements\n",
      "Clp3002W Empty problem - 0 rows, 0 columns and 0 elements\n",
      "Clp0000I Optimal - objective value -3\n",
      "Coin0511I After Postsolve, objective -3, infeasibilities - dual 0 (0), primal 0 (0)\n",
      "Clp0032I Optimal objective -3 - 0 iterations time 0.002, Presolve 0.00\n",
      "Coin0506I Presolve 0 (-2) rows, 0 (-3) columns and 0 (-4) elements\n",
      "Clp3002W Empty problem - 0 rows, 0 columns and 0 elements\n",
      "Clp0000I Optimal - objective value 0\n",
      "Coin0511I After Postsolve, objective 0, infeasibilities - dual 0 (0), primal 0 (0)\n",
      "Clp0032I Optimal objective 0 - 0 iterations time 0.002, Presolve 0.00\n",
      "Coin0508I Presolve thinks problem is unbounded\n",
      "Clp3003W Analysis indicates model infeasible or unbounded\n",
      "Clp0006I 0  Obj 0 Primal inf 0.9999999 (1) Dual inf 0.9999999 (1)\n",
      "Clp0006I 1  Obj -1e+10\n",
      "Clp0006I 1  Obj -5e+10\n",
      "Clp0002I Dual infeasible - objective value -5e+10\n",
      "Clp0032I DualInfeasible objective -5e+10 - 1 iterations time 0.002\n"
     ]
    }
   ],
   "source": [
    "using JuMP, Clp\n",
    "\n",
    "# Vetores de custo\n",
    "cx = [-1 0 1; 0 1 0; 0 0 -1]\n",
    "\n",
    "for c in eachrow(cx)\n",
    "    m = Model(Clp.Optimizer)\n",
    "\n",
    "    @variable(m, x[1:3] >= 0)\n",
    "    @constraint(m, x[1] + x[2] >= 1)\n",
    "    @constraint(m, x[1] + 2 * x[2] <= 3)\n",
    "\n",
    "    @objective(m, Min, sum(c[i] * x[i] for i in 1:3))\n",
    "\n",
    "    optimize!(m)\n",
    "\n",
    "    println(\"Valor ótimo = \", objective_value(m))\n",
    "end"
   ]
  },
  {
   "cell_type": "code",
   "execution_count": null,
   "metadata": {},
   "outputs": [],
   "source": [
    "c = \n",
    "\n",
    "using JuMP, Clp\n",
    "using LinearAlgebra\n",
    "\n",
    "m = Model(Clp.Optimizer)\n",
    "@variable(m, x[1:3] >= 0 )      \n",
    "@constraint(m, A*x .<= b )      \n",
    "@objective(m, Min,  )  \n",
    "\n",
    "optimize!(m)\n",
    "print(m)\n",
    "\n",
    "#println(status)\n",
    "println(\"Valor de u =\", JuMP.value.(x[1]))\n",
    "println(\"Valor de v =\", JuMP.value.(x[3]))\n",
    "println(\"Valor de w =\", JuMP.value.(x[3]))\n",
    "\n",
    "println(\"Valor Max será\", JuMP.objective_value.(m))"
   ]
  },
  {
   "cell_type": "markdown",
   "metadata": {},
   "source": [
    "## Problema 3 (Revisão de álgebra linear):\n",
    "\n",
    "Escreva as afirmações abaixo na linguagem de matrizes. Exemplo: A afirmação \"Toda coluna de $C$ é uma combinação linear das colunas de $B$ pode ser escrita em linguagem matricial como $C = BF$ para alguma matriz $F$. Observações: (i) Você pode supor que todas as matrizes que você utiliza têm as dimensões apropriadas; (ii) pode existir mais de uma resposta correta, basta dar qualquer uma!\n",
    "- (a) Para cada $i$, linha $i$ de $Z$ é uma combinação linear das linhas $i, \\ldots , n$ de $Y$.\n",
    "- (b) $W$ é obtida a partir da matriz $V$ permutando colunas pares e ímpares adjacentes (i.e., $1$ e $2$, $3$ e $4$, ...)\n",
    "- (c) Cada coluna de $P$ faz um ângulo agudo com cada coluna de $Q$.\n",
    "- (d) Cada coluna de $P$ faz um ângulo agudo com cada coluna correspondente de $Q$.\n",
    "- (e) As primeiras $k$ colunas de $A$ são ortogonais às demais colunas de $A$."
   ]
  },
  {
   "cell_type": "markdown",
   "metadata": {},
   "source": [
    "### Solução do problema 3:"
   ]
  },
  {
   "cell_type": "markdown",
   "metadata": {},
   "source": [
    "Letra A\n",
    "\n",
    "Para cada $i$, linha $i$ de $Z$ é uma combinação linear das linhas $i, \\ldots , n$ de $Y$.\n",
    "Z[i, :] = Y[i:n, :] * F\n"
   ]
  },
  {
   "cell_type": "code",
   "execution_count": null,
   "metadata": {},
   "outputs": [],
   "source": []
  },
  {
   "cell_type": "code",
   "execution_count": null,
   "metadata": {},
   "outputs": [],
   "source": []
  },
  {
   "cell_type": "markdown",
   "metadata": {},
   "source": [
    "## Problema 4 (Hiperplanos e semi-espaços):"
   ]
  },
  {
   "cell_type": "markdown",
   "metadata": {},
   "source": [
    "- (a) Deriva uma fórmula para a distância entre dois hiperplanos paralelos $\\{x \\in {\\mathbb R}^n : a^T x = b_1\\}$ e $\\{x \\in {\\mathbb R}^n : a^T x = b_2\\}$?\n",
    "- (b) Dê condições para que o semi-espaço $H_1 = \\{x \\in {\\mathbb R}^n : a_1^T x = b_1\\}$ esteja contido em $H_2 = \\{x \\in {\\mathbb R}^n : a_2^T x = b_2\\}$, justificando sua resposta."
   ]
  },
  {
   "cell_type": "markdown",
   "metadata": {},
   "source": [
    "### Solução do problema 4:\n"
   ]
  },
  {
   "cell_type": "markdown",
   "metadata": {},
   "source": []
  },
  {
   "cell_type": "markdown",
   "metadata": {},
   "source": [
    "## Problema 5 (Poliédros): \n",
    "\n",
    "Quais dos conjuntos $S$ definidos abaixo são poliédros? Se possível, escreva $S$ na forma $S = \\{x : Ax \\leq b, Cx = d\\}$.\n",
    "- (a) $S = \\{y_1 a_1 + y_2 a_2 : -1 \\leq y_1 \\leq 1, -1 \\leq y_2 \\leq 1 \\}$, sendo $a_1, a_2$ vetores linearmente independentes em ${\\mathbb R}^n$.\n",
    "- (b) $S = \\{x \\in {\\mathbb R}^n : x \\geq 0, {\\mathbb 1}^T x = 1, \\sum_{i=1}^n x_i a_i = b_1, \\sum_{i=1}^n x_i a_i^2 = b_2\\}$, sendo $a_1, \\ldots , a_n \\in {\\mathbb R}$ e $b_1,b_2 \\in {\\mathbb R}$.\n",
    "- (c) $S = \\{x \\in {\\mathbb R}^n : x \\geq 0,x^T y \\leq 1,~\\text{para todo}~y~\\text{tal que}~\\|y\\|_2 = 1 \\}$.\n",
    "- (d) $S = \\{x \\in {\\mathbb R}^n : x \\geq 0,x^T y \\leq 1,~\\text{para todo}~y~\\text{tal que}~\\|y\\|_1 = 1 \\}$."
   ]
  },
  {
   "cell_type": "markdown",
   "metadata": {},
   "source": [
    "### Solução do problem 5:\n",
    "\n",
    "\n"
   ]
  },
  {
   "cell_type": "code",
   "execution_count": 16,
   "metadata": {},
   "outputs": [],
   "source": []
  },
  {
   "cell_type": "markdown",
   "metadata": {
    "collapsed": true
   },
   "source": [
    "## Problema 6 (Centro de Chebyshev)\n",
    "Encontre o centro e o raio do maior círculo que possa ser inscrito no poliédro descrito pelas inequações $Ax \\leq b$, sendo $x \\in {\\mathbb R}^2$, \n",
    "$A = \\begin{bmatrix} -0.26 & 0.97\\\\0.42 & -0.91\\\\0.91 & 0.42\\\\-0.82 & - 0.57\\end{bmatrix}$ e $b = \\begin{bmatrix} 5.0\\\\1.0\\\\8.0\\\\-1.5\\end{bmatrix}$. \n",
    "\n",
    "O que acontece (à solução encontrada pelo JuMP) se acresecentar a inequação $[1 \\quad 0] \\leq -3$ às quatro inequações já especificadas (i.e., $Ax\\leq b$)? Explique sua resposta."
   ]
  },
  {
   "cell_type": "markdown",
   "metadata": {},
   "source": [
    "### Solução do problem 6:"
   ]
  },
  {
   "cell_type": "code",
   "execution_count": 17,
   "metadata": {},
   "outputs": [
    {
     "name": "stdout",
     "output_type": "stream",
     "text": [
      "As coordenadas do centro de Chebyshev são: [2.876264474644577, 3.1651832449534725]\n",
      "O maior raio possível é: 2.6662932476616845\n",
      "Coin0506I Presolve 6 (0) rows, 3 (0) columns and 16 (0) elements\n",
      "Clp0006I 0  Obj 0 Primal inf 1.502029 (1) Dual inf 0.9999999 (1)\n",
      "Clp0006I 5  Obj 2.6662932\n",
      "Clp0000I Optimal - objective value 2.6662932\n",
      "Clp0032I Optimal objective 2.666293248 - 5 iterations time 0.002\n"
     ]
    }
   ],
   "source": [
    "using JuMP\n",
    "using Clp\n",
    "using PyPlot\n",
    "using LinearAlgebra\n",
    "\n",
    "A = [-0.26 0.97;0.42 -0.91;0.91 0.42;-0.82 -0.57;-1 0; 0 -1]\n",
    "b = [5; 1; 8; -1.5; 0; 0]\n",
    "\n",
    "m = Model(Clp.Optimizer)\n",
    "@variable(m, r >= 0)          \n",
    "@variable(m, x[1:2])\n",
    "for i = 1:size(A,1)\n",
    "    @constraint(m, dot(A[i,:],x) + r*norm(A[i,:]) <= b[i])\n",
    "end\n",
    "@objective(m, Max, r) \n",
    "\n",
    "optimize!(m)\n",
    "\n",
    "xc,yc = JuMP.value.(x)\n",
    "r = JuMP.objective_value(m)\n",
    "println(\"As coordenadas do centro de Chebyshev são: \",[xc,yc])\n",
    "println(\"O maior raio possível é: \", r)\n"
   ]
  },
  {
   "cell_type": "code",
   "execution_count": 18,
   "metadata": {},
   "outputs": [
    {
     "ename": "ErrorException",
     "evalue": "Primal solution not available",
     "output_type": "error",
     "traceback": [
      "Primal solution not available\n",
      "\n",
      "Stacktrace:\n",
      "  [1] error(s::String)\n",
      "    @ Base .\\error.jl:35\n",
      "  [2] get(model::Clp.Optimizer, attr::MathOptInterface.VariablePrimal, x::MathOptInterface.VariableIndex)\n",
      "    @ Clp C:\\Users\\anton\\.julia\\packages\\Clp\\gKYi8\\src\\MOI_wrapper\\MOI_wrapper.jl:549\n",
      "  [3] get(model::MathOptInterface.Utilities.CachingOptimizer{Clp.Optimizer, MathOptInterface.Utilities.UniversalFallback{Clp.OptimizerCache}}, attr::MathOptInterface.VariablePrimal, index::MathOptInterface.VariableIndex)\n",
      "    @ MathOptInterface.Utilities C:\\Users\\anton\\.julia\\packages\\MathOptInterface\\tWT4o\\src\\Utilities\\cachingoptimizer.jl:911\n",
      "  [4] get(b::MathOptInterface.Bridges.LazyBridgeOptimizer{MathOptInterface.Utilities.CachingOptimizer{Clp.Optimizer, MathOptInterface.Utilities.UniversalFallback{Clp.OptimizerCache}}}, attr::MathOptInterface.VariablePrimal, index::MathOptInterface.VariableIndex)\n",
      "    @ MathOptInterface.Bridges C:\\Users\\anton\\.julia\\packages\\MathOptInterface\\tWT4o\\src\\Bridges\\bridge_optimizer.jl:1195\n",
      "  [5] get(model::MathOptInterface.Utilities.CachingOptimizer{MathOptInterface.Bridges.LazyBridgeOptimizer{MathOptInterface.Utilities.CachingOptimizer{Clp.Optimizer, MathOptInterface.Utilities.UniversalFallback{Clp.OptimizerCache}}}, MathOptInterface.Utilities.UniversalFallback{MathOptInterface.Utilities.Model{Float64}}}, attr::MathOptInterface.VariablePrimal, index::MathOptInterface.VariableIndex)\n",
      "    @ MathOptInterface.Utilities C:\\Users\\anton\\.julia\\packages\\MathOptInterface\\tWT4o\\src\\Utilities\\cachingoptimizer.jl:911\n",
      "  [6] _moi_get_result(::MathOptInterface.Utilities.CachingOptimizer{MathOptInterface.Bridges.LazyBridgeOptimizer{MathOptInterface.Utilities.CachingOptimizer{Clp.Optimizer, MathOptInterface.Utilities.UniversalFallback{Clp.OptimizerCache}}}, MathOptInterface.Utilities.UniversalFallback{MathOptInterface.Utilities.Model{Float64}}}, ::MathOptInterface.VariablePrimal, ::Vararg{Any})\n",
      "    @ JuMP C:\\Users\\anton\\.julia\\packages\\JuMP\\mvUVO\\src\\optimizer_interface.jl:642\n",
      "  [7] get(model::Model, attr::MathOptInterface.VariablePrimal, v::VariableRef)\n",
      "    @ JuMP C:\\Users\\anton\\.julia\\packages\\JuMP\\mvUVO\\src\\optimizer_interface.jl:682\n",
      "  [8] value(v::VariableRef; result::Int64)\n",
      "    @ JuMP C:\\Users\\anton\\.julia\\packages\\JuMP\\mvUVO\\src\\variables.jl:1297\n",
      "  [9] value\n",
      "    @ C:\\Users\\anton\\.julia\\packages\\JuMP\\mvUVO\\src\\variables.jl:1296 [inlined]\n",
      " [10] _broadcast_getindex_evalf\n",
      "    @ .\\broadcast.jl:683 [inlined]\n",
      " [11] _broadcast_getindex\n",
      "    @ .\\broadcast.jl:656 [inlined]\n",
      " [12] getindex\n",
      "    @ .\\broadcast.jl:610 [inlined]\n",
      " [13] macro expansion\n",
      "    @ .\\broadcast.jl:974 [inlined]\n",
      " [14] macro expansion\n",
      "    @ .\\simdloop.jl:77 [inlined]\n",
      " [15] copyto!\n",
      "    @ .\\broadcast.jl:973 [inlined]\n",
      " [16] copyto!\n",
      "    @ .\\broadcast.jl:926 [inlined]\n",
      " [17] copy\n",
      "    @ .\\broadcast.jl:898 [inlined]\n",
      " [18] materialize(bc::Base.Broadcast.Broadcasted{Base.Broadcast.DefaultArrayStyle{1}, Nothing, typeof(value), Tuple{Vector{VariableRef}}})\n",
      "    @ Base.Broadcast .\\broadcast.jl:873\n",
      " [19] top-level scope\n",
      "    @ c:\\Users\\anton\\OneDrive\\Documents\\6_Vini\\Vini\\Introdução a Otimização\\Listas\\lista1.ipynb:19"
     ]
    }
   ],
   "source": [
    "using JuMP\n",
    "using Clp\n",
    "using PyPlot\n",
    "using LinearAlgebra\n",
    "\n",
    "A = [-0.26 0.97;0.42 -0.91;0.91 0.42;-0.82 -0.57;-1 0; 0 -1;1 0]\n",
    "b = [5; 1; 8; -1.5; 0; 0; -3]\n",
    "\n",
    "m = Model(Clp.Optimizer)\n",
    "@variable(m, r >= 0)          \n",
    "@variable(m, x[1:2])\n",
    "for i = 1:size(A,1)\n",
    "    @constraint(m, dot(A[i,:],x) + r*norm(A[i,:]) <= b[i])\n",
    "end\n",
    "@objective(m, Max, r) \n",
    "\n",
    "optimize!(m)\n",
    "\n",
    "xc,yc = JuMP.value.(x)\n",
    "r = JuMP.objective_value(m)\n",
    "println(\"As coordenadas do centro de Chebyshev são: \",[xc,yc])\n",
    "println(\"O maior raio possível é: \", r)\n"
   ]
  },
  {
   "cell_type": "code",
   "execution_count": 19,
   "metadata": {},
   "outputs": [
    {
     "name": "stdout",
     "output_type": "stream",
     "text": [
      "Coin0507I Presolve determined that the problem was infeasible with tolerance of 1e-08\n",
      "Clp3003W Analysis indicates model infeasible or unbounded\n",
      "Clp0006I 0  Obj 0 Primal inf 4.5020289 (2) Dual inf 0.9999999 (1)\n",
      "Clp0006I 3  Obj -1.5 Primal inf 1.4999999 (1)\n",
      "Clp0001I Primal infeasible - objective value -1.5\n",
      "Clp0032I PrimalInfeasible objective -1.5 - 3 iterations time 0.002\n"
     ]
    }
   ],
   "source": []
  },
  {
   "cell_type": "markdown",
   "metadata": {},
   "source": [
    "Não há uma solução primal disponível quando há a restrição [ 1 0] =< 3"
   ]
  },
  {
   "cell_type": "markdown",
   "metadata": {},
   "source": [
    "## Problema 7 (Geometria de LP)\n",
    "\n",
    "- (a) Determine se $\\bar{x} = (1,1,1,1)$ é vértice do poliédro $P$ definido pelas desigualdades lineares:\n",
    "$$\n",
    "\\begin{bmatrix} -1 & -6 & 1 & 3\\\\-1 & -2 & 7 & 1\\\\0 & 3 & -10 & -1\\\\-6 & -11 & -2 & 12\\\\1 & 6 & -1 & -3\\end{bmatrix} \\begin{bmatrix} x_1 \\\\ x_2 \\\\ x_3 \\\\ x_4 \\end{bmatrix} \\leq \\begin{bmatrix} -3 \\\\ 5 \\\\ -8 \\\\ -7 \\\\ 4 \\end{bmatrix}\n",
    "$$\n",
    "- Se sim, determine um vetor $c$ tal que $\\bar{x}$ seja o minmizador único de $c^T x$ sobre $P$.\n",
    "- (b) mesma pergunta para o poliédro definido pelas desigualdades\n",
    "$$\n",
    "\\begin{bmatrix} 0 & -5 & -2 & -5\\\\-7 & -7 & -2 & -2\\\\-4 & -4 & -7 & -7\\\\-8 & -3 & -3 & -4\\\\-4 & -4 & 2 & -2\\end{bmatrix} \\begin{bmatrix} x_1 \\\\ x_2 \\\\ x_3 \\\\ x_4 \\end{bmatrix} \\leq \\begin{bmatrix} -12 \\\\ -17 \\\\ -22 \\\\ -18 \\\\ -8 \\end{bmatrix}\n",
    "$$\n",
    "e, adicionalmente, a igualdade $8x_1 - 7x_2 - 10x_3 -11x_4 = -20$."
   ]
  },
  {
   "cell_type": "markdown",
   "metadata": {},
   "source": [
    "### Solução do problem 7:"
   ]
  },
  {
   "cell_type": "code",
   "execution_count": 20,
   "metadata": {},
   "outputs": [
    {
     "ename": "ErrorException",
     "evalue": "syntax: unexpected comma in array expression",
     "output_type": "error",
     "traceback": [
      "syntax: unexpected comma in array expression\n",
      "\n",
      "Stacktrace:\n",
      " [1] top-level scope\n",
      "   @ c:\\Users\\anton\\OneDrive\\Documents\\6_Vini\\Vini\\Introdução a Otimização\\Listas\\lista1.ipynb:3"
     ]
    }
   ],
   "source": [
    "#letra a\n",
    "A = [-1 -6 1 3; -1 -2 7 1; 0 3 -10 -1; -6 -11 -2 12;1 6 -1 -3]\n",
    "b = [-3; 5; -8; -7, 4]\n",
    "c = [-1; 1; -1]\n",
    "\n",
    "using JuMP, Clp\n",
    "using LinearAlgebra\n",
    "\n",
    "m = Model(Clp.Optimizer)\n",
    "@variable(m, x[1:3] >= 0 )      \n",
    "@constraint(m, A*x .<= b )      \n",
    "@objective(m, Max, dot(c,x) )  \n",
    "\n",
    "optimize!(m)\n",
    "print(m)\n",
    "\n",
    "#println(status)\n",
    "println(\"Valor de u =\", JuMP.value.(x[1]))\n",
    "println(\"Valor de v =\", JuMP.value.(x[2]))\n",
    "println(\"Valor de w =\", JuMP.value.(x[3]))\n",
    "\n",
    "println(\"Valor Max será\", JuMP.objective_value.(m))"
   ]
  },
  {
   "cell_type": "code",
   "execution_count": 21,
   "metadata": {},
   "outputs": [
    {
     "ename": "ErrorException",
     "evalue": "syntax: unexpected comma in array expression",
     "output_type": "error",
     "traceback": [
      "syntax: unexpected comma in array expression\n",
      "\n",
      "Stacktrace:\n",
      " [1] top-level scope\n",
      "   @ c:\\Users\\anton\\OneDrive\\Documents\\6_Vini\\Vini\\Introdução a Otimização\\Listas\\lista1.ipynb:3"
     ]
    }
   ],
   "source": [
    "#letra b\n",
    "A = [0 -5 -2 -5; -7 -7 -2 -2; -4 -4 -7 -7; -8 -3 -3 -4;-4 -4 2 -2]\n",
    "b = [-12; -17; -22; -18, -8]\n"
   ]
  },
  {
   "cell_type": "markdown",
   "metadata": {},
   "source": [
    "## Problema 8 (Grid elétrico com armazenamento de energia)\n",
    "\n",
    "A cidade Varre-Sai compra sua energia elétrica da utilidade Ampla que cobre por hora. Se for utilizado menos de 50MWh durante uma determinada hora do dia,  o custo é 100 reais por MWh. Qualquer excedente (além de 50 MWh) durante esta hora custa 400 reais por MWh. A energia máxima que Ampla pode fornecer (em qualquer intervalo de uma hora) é 75 MWh. As tabelas abaixo mostram a demanda diária média hora a hora para a cidade Varre-Sai durante o mes de janeiro.\n",
    "\n",
    "| Hora do dia (manhã) | 01 | 02 | 03 | 04 | 05 | 06 | 07 | 08 | 09 | 10| 11| 12|\n",
    "|:-------------------:|:-:|:-:|:-:|:-:|:-:|:-:|:-:|:-:|:-:|:-:|:-:|:-:|\n",
    "| Demanda (MWh)       | 43| 40| 36| 36| 35| 38| 41| 46| 49| 48| 47| 47|\n",
    "\n",
    "| Hora do dia ( tarde )| 13| 14| 15| 16| 17| 18| 19| 20| 21| 22| 23| 24|\n",
    "|:-------------------:|:-:|:-:|:-:|:-:|:-:|:-:|:-:|:-:|:-:|:-:|:-:|:-:|\n",
    "| Demanda (MWh)       | 48| 46| 45| 47| 50| 63| 75| 75| 72| 66| 57| 50|\n",
    "\n",
    "O prefeito de Varre-Sai está preocupado com o gasto alto na parte da tarde e o risco de blecautes por volta de 19h por conta da demanda média alta (perigosamente) próxima ao limite de 75 MWh estipulado pela Ampla.\n",
    "\n",
    "Para contornar estes problemas potenciais, o prefeito comprou uma bateria grande com capacidade de armazenamento de 30 MWh. A ideia seria comprar mais energia (do que a demanda na primeira parte do dia, quando energia custa menos), armazenar na bateria e utilizar nos horários de pico mais tarde, quando tanto a demanda como o preço atingem valores altos.\n",
    "1. Quanto dinheiro a cidade de Varre-Sai poderia economizar graças a bateria? Suponha que a bateria começa o dia completamente descarregada, e que, para maior segurança em relação aos  blecautes, limita-se a 65 MWh a quantidade de eletricidade comprada por hora.\n",
    "2. Quanto dinheiro seria economizado se a bateria tivesse capacidade infinita?\n",
    "3. Plote um gráfico que mostra:\n",
    "     1. a demanda de energia típica (da tabela) versus a hora do dia.\n",
    "     2. a eletricidade comprada utilizando a estratégia encontrada no item 1 versus a hora do dia (plote ambos os gráficos nos mesmos eixos)."
   ]
  },
  {
   "cell_type": "markdown",
   "metadata": {},
   "source": [
    "### Solução do problem 8:"
   ]
  },
  {
   "cell_type": "code",
   "execution_count": 22,
   "metadata": {},
   "outputs": [
    {
     "ename": "UndefVarError",
     "evalue": "UndefVarError: `demanda` not defined",
     "output_type": "error",
     "traceback": [
      "UndefVarError: `demanda` not defined\n",
      "\n",
      "Stacktrace:\n",
      " [1] top-level scope\n",
      "   @ c:\\Users\\anton\\OneDrive\\Documents\\6_Vini\\Vini\\Introdução a Otimização\\Listas\\lista1.ipynb:10"
     ]
    }
   ],
   "source": [
    "using JuMP, Clp, LinearAlgebra\n",
    "\n",
    "d = [43 40 36 36 35 38 41 46 49 48 47 47 48 46 45 47 50 63 75 75 72 66 57 50]  #demanda \n",
    "custo = [100 400]\n",
    "m = Model(Clp.Optimizer)\n",
    "\n",
    "#Exercício 1\n",
    "custo_por_energia = [demanda_i <= 50 ? 100 : 400 for demanda_i in d]\n",
    "\n",
    "custo_total = sum(demanda[i] * custo_por_energia[i] for i in 1:length(demanda))\n",
    "\n",
    "println(\"Custo total: $custo_total\")\n",
    "\n",
    "@variable(m,0 <= x[1:24] <= 50) #x é o consumido até 50kwh\n",
    "@variable(m,0 <= y[1:24] <= 15) #x é o consumido a partir de 50kWH\n",
    "@variable(m,0 <= h[1:25] <= 30) #armazenado na bateria\n",
    "\n",
    "@constraint(m,h[1] == 0)\n",
    "@constraint(m, fluxo[i in 1:24], h[i] + x[i] + y[i] == d[i] + h[i+1])   \n",
    "\n",
    "total = [sum(x) sum(y)]\n",
    "@objective(m, Min, dot(custo,total))\n",
    "optimize!(m)\n",
    "\n",
    "println(\"Energia consumida até 50kwh: \", JuMP.value.(x))\n",
    "println(\"Energia consumida além de 50kwh: \", JuMP.value.(y))\n",
    "println(\"Energia armazenada na bateria: \", (JuMP.value.(h)))\n",
    "\n",
    "println(\"O custo mínimo será: \", JuMP.objective_value.(m))\n",
    "\n",
    "println(\"O valor economizado consiste em: \", custo_total-JuMP.objective_value.(m), \"reais\")"
   ]
  },
  {
   "cell_type": "code",
   "execution_count": 23,
   "metadata": {},
   "outputs": [
    {
     "ename": "UndefVarError",
     "evalue": "UndefVarError: `demanda` not defined",
     "output_type": "error",
     "traceback": [
      "UndefVarError: `demanda` not defined\n",
      "\n",
      "Stacktrace:\n",
      " [1] top-level scope\n",
      "   @ c:\\Users\\anton\\OneDrive\\Documents\\6_Vini\\Vini\\Introdução a Otimização\\Listas\\lista1.ipynb:10"
     ]
    }
   ],
   "source": [
    "#Exercício 2\n",
    "\n",
    "using JuMP, Clp, LinearAlgebra\n",
    "d = [43 40 36 36 35 38 41 46 49 48 47 47 48 46 45 47 50 63 75 75 72 66 57 50]  #demanda \n",
    "custo = [100 400]\n",
    "m = Model(Clp.Optimizer)\n",
    "\n",
    "custo_por_energia = [demanda_i <= 50 ? 100 : 400 for demanda_i in d]\n",
    "\n",
    "custo_total = sum(demanda[i] * custo_por_energia[i] for i in 1:length(demanda))\n",
    "\n",
    "println(\"Custo total: $custo_total\")\n",
    "\n",
    "@variable(m,0 <= x[1:24] <= 50) #x é o consumido até 50kwh\n",
    "@variable(m,0 <= y[1:24] <= 15) #x é o consumido a partir de 50kWH\n",
    "@variable(m,h[1:25] >= 0) #armazenado na bateria\n",
    "\n",
    "@constraint(m,h[1] == 0)\n",
    "@constraint(m, fluxo[i in 1:24], h[i] + x[i] + y[i] == d[i] + h[i+1])   \n",
    "\n",
    "total = [sum(x) sum(y)]\n",
    "@objective(m, Min, dot(custo,total))\n",
    "optimize!(m)\n",
    "\n",
    "println(\"Energia consumida até 50kwh: \", JuMP.value.(x))\n",
    "println(\"Energia consumida além de 50kwh: \", JuMP.value.(y))\n",
    "println(\"Energia armazenada na bateria: \", (JuMP.value.(h)))\n",
    "\n",
    "println(\"O custo mínimo será: \", JuMP.objective_value.(m))\n",
    "\n",
    "println(\"O valor economizado consiste em: \", custo_total-JuMP.objective_value.(m), \"reais\")\n",
    "\n"
   ]
  },
  {
   "cell_type": "code",
   "execution_count": 1,
   "metadata": {},
   "outputs": [],
   "source": [
    "using Pkg\n",
    "Pkg.update()\n",
    "Pkg.add(\"Plots\")"
   ]
  },
  {
   "cell_type": "markdown",
   "metadata": {},
   "source": [
    "## Problema 9 (Construção de um estádio esportivo [sob regime de anti-propina!])\n",
    "Uma cidade pequena deseja construir um estádio (também pequeno). Após licitação, uma empreiteira ganha o contrato e deseja cumprir a tarefa no menor tempo possível. Todas as grandes tarefas estão listadas na tabela abaixo. Algumas podem ser iniciadas apenas quando as tarefas predecessoras tiverem sido concluídas e esta dependência está registrada na quarta coluna.\n",
    "\n",
    "|Tarefa | Descrição | Duração (em semanas)| Tarefas predecessoras | Redução máxima (em semanas)| Custo da redução (R\\$1k/semana) |\n",
    "|:---:|:----------:|:------------------:|:------------:|:---------------------------:|:---------------------------:|\n",
    "|1 |Instalação no local de construção |2 | não há | 0 | -- |\n",
    "| 2| Terraplenagem | 16 | 1 | 3 | 30 |\n",
    "|3 |Construção da fundação | 9 | 2 | 1 | 26 |\n",
    "| 4 |Ruas de acesso e outras redes | 8 | 2 | 2 | 12 |\n",
    "| 5 | Construir o porão | 10 | 3 | 2 | 17 |\n",
    "| 6 | Piso principal | 6 | 4,5 | 1 | 15 |\n",
    "| 7 | Divisão do vestiário | 2 | 4 | 1 | 8 |\n",
    "| 8 | Instalação elétrica nas arquibancadas | 2 | 6 | 0 | -- |\n",
    "|9  | Construção da cobertura | 9 | 4,6 | 2 | 42 |\n",
    "|10 | Iluminação do estádio | 5 | 4 | 1 | 21 |\n",
    "| 11 | Instalações nas arquibancadas | 3 | 6 | 1 |18 |\n",
    "| 12 | Impermeabilização da cobertura | 2 | 9 | 0 | -- |\n",
    "| 13 | Acabamento do vestiário | 1 | 7 | 0 | -- |\n",
    "| 14 | Construção da bilheteria | 7 | 2 | 2 | 22 |\n",
    "| 15 | Ruas de acesso secundárias | 4 | 4,14 | 2 | 12 |\n",
    "|16  | Placar e altofalantes |3 | 8,11,14 | 1 | 6 |\n",
    "|17 | Gramado e acessórios para esportes | 9 | 12 | 3 | 16 |\n",
    "|18 | Entrega do estádio | 1 | 17 | 0 | -- |\n",
    "\n",
    "As perguntas que a empreiteira quer que sejam respondidas são as seguintes:\n",
    "1. Qual a data mais cedo para o término da construção? Note que as últimas duas colunas não são  relevantes para este item. \n",
    "2. Para algumas tarefas a empreiteira pode contratar operários extra e alugar mais equipamento para reduzir o tempo total. As últimas duas colunas mostram o número máximo de semanas poupadas por tarefa e o custo adicional associado por semana, por conta do trabalho extra. Plote um gráfico de compromisso (\"tradeoff\") mostrando o custo extra em função do número de semanas poupadas.\n",
    "3. A prefeitura da cidade gostaria que a obra fosse terminada antes da data combinada e anunciada (resposta do item  1). Como incentivo, a prefeitura propõe pagar um bônus de R\\$30k por cada semana de antecipação da data de término da obra. Quando terminará o projeto se a empreiteira deseja maximizar seu lucro?"
   ]
  },
  {
   "cell_type": "markdown",
   "metadata": {},
   "source": [
    "### Solução do problem 9:"
   ]
  },
  {
   "cell_type": "code",
   "execution_count": 24,
   "metadata": {},
   "outputs": [
    {
     "data": {
      "text/plain": [
       "18-element Vector{Any}:\n",
       " Symbol(\"1\")\n",
       " Symbol(\"2\")\n",
       " Symbol(\"3\")\n",
       " Symbol(\"4\")\n",
       " Symbol(\"5\")\n",
       " Symbol(\"6\")\n",
       " Symbol(\"7\")\n",
       " Symbol(\"8\")\n",
       " Symbol(\"9\")\n",
       " Symbol(\"10\")\n",
       " Symbol(\"11\")\n",
       " Symbol(\"12\")\n",
       " Symbol(\"13\")\n",
       " Symbol(\"14\")\n",
       " Symbol(\"15\")\n",
       " Symbol(\"16\")\n",
       " Symbol(\"17\")\n",
       " Symbol(\"18\")"
      ]
     },
     "metadata": {},
     "output_type": "display_data"
    }
   ],
   "source": [
    "tasks = []\n",
    "for i = 1:18\n",
    "    push!(tasks, Symbol(i))    # string(sym) converts back to a string, i.e. string(:hello) returns \"hello\"\n",
    "end\n",
    "tasks"
   ]
  },
  {
   "cell_type": "markdown",
   "metadata": {},
   "source": [
    "## Problema 10: (Clássico: dieta ótima)"
   ]
  },
  {
   "cell_type": "markdown",
   "metadata": {},
   "source": [
    "Suponha que uma certa dieta alimentar esteja baseada nos alimentos (em parêntesis vemos as unidades utilizadas): \n",
    "leite desnatado (litro) , carne magra de boi (Kg), carne de frango (kg) e batata doce (100 g). \n",
    "Sabendo-se que os requisitos nutricionais serão expressos em termos de vitaminas A,C, e D e controlados por \n",
    "suas quantidades mínimas (em miligramas), uma vez que são indispensáveis à preservação da saúde da pessoa \n",
    "que estará se submetendo a dieta. A Tabela abaixo resume a quantidade de cada vitamina em disponibilidade \n",
    "**em cada unidade considerada dos alimentos**, sua necessidade diária para a boa saúde de uma pessoa e o custo \n",
    "(em reais) de cada unidade do alimento considerado. Modele e resolva o problema de forma a minimizar os gastos com a \n",
    "compra dos alimentos, obedecendo às quantidades mínimas recomendadas em relação às vitaminas.\n",
    "\n",
    "Tabela: Dados do problema da dieta\n",
    "\n",
    "|Alim.$\\rightarrow$|leite | carne |frango | batata | Qtd. Mín. |\n",
    "|------------------|------|-------|-------|--------|-----------|\n",
    "|Vit.$\\downarrow$ |  \n",
    "|A |2 |2 |5 |4 |11 |\n",
    "|C |50 | 20 | 10 | 45| 70 |\n",
    "|D |80 |70 |10 |60 |250|\n",
    "| |\n",
    "|Custo $\\rightarrow$ |5 |40 |20 |2 |\n",
    "\n",
    "\n"
   ]
  },
  {
   "cell_type": "markdown",
   "metadata": {},
   "source": [
    "### Solução do problem 10:"
   ]
  },
  {
   "cell_type": "code",
   "execution_count": 25,
   "metadata": {},
   "outputs": [
    {
     "name": "stdout",
     "output_type": "stream",
     "text": [
      "Min 5 l + 40 c + 20 f + 2 b\n",
      "Subject to"
     ]
    },
    {
     "name": "stdout",
     "output_type": "stream",
     "text": [
      "\n",
      " 2 l + 2 c + 5 f + 4 b >= 11\n",
      " 50 l + 20 c + 10 f + 45 b >= 70\n",
      " 80 l + 70 c + 10 f + 60 b >= 250\n",
      " l >= 0\n",
      " c >= 0\n",
      " f >= 0\n",
      " b >= 0\n",
      "Quantidade de Leite = 0.0Litros\n",
      "Quantidade de Carne = 0.0KGs\n",
      "Quantidade de Frango = 0.0KGs\n",
      "Quantidade de Batata Doce =4.166666666666666KGs\n",
      "Valor Min será 8.333333333333332\n"
     ]
    },
    {
     "name": "stdout",
     "output_type": "stream",
     "text": [
      "Coin0506I Presolve 3 (0) rows, 4 (0) columns and 12 (0) elements\n",
      "Clp0006I 0  Obj 0 Primal inf 6.7249997 (3)\n",
      "Clp0006I 1  Obj 8.3333333\n",
      "Clp0000I Optimal - objective value 8.3333333\n",
      "Clp0032I Optimal objective 8.333333333 - 1 iterations time 0.002\n"
     ]
    }
   ],
   "source": [
    "using JuMP, Clp\n",
    "\n",
    "m = Model(Clp.Optimizer)  #Nome do modelo e otimizador (algoritmo)\n",
    "\n",
    "@variable(m, l >= 0)   # Leite\n",
    "@variable(m, c >= 0)   # Carne\n",
    "@variable(m, f >= 0)   # Frango\n",
    "@variable(m, b >= 0)   # Batata\n",
    "\n",
    "@constraint(m, 2l + 2c + 5f + 4b >= 11)  # Vitamina A\n",
    "@constraint(m, 50l + 20c + 10f + 45b >= 70)  # Vitamina C\n",
    "@constraint(m, 80l + 70c + 10f + 60b >= 250)  # Vitamina D\n",
    "@objective(m, Min, 5l + 40c + 20f + 2b)\n",
    "\n",
    "optimize!(m)\n",
    "print(m)\n",
    "println(\"Quantidade de Leite = \", JuMP.value.(l), \"Litros\")\n",
    "println(\"Quantidade de Carne = \", JuMP.value.(c), \"KGs\")\n",
    "println(\"Quantidade de Frango = \", JuMP.value.(f), \"KGs\")\n",
    "#qtdb = JuMP.value.(b)*0.1\n",
    "#println(qtdb)\n",
    "println(\"Quantidade de Batata Doce =\", JuMP.value.(b), \"KGs\")\n",
    "\n",
    "println(\"Valor Min será \", JuMP.objective_value.(m))"
   ]
  }
 ],
 "metadata": {
  "@webio": {
   "lastCommId": null,
   "lastKernelId": null
  },
  "anaconda-cloud": {},
  "kernelspec": {
   "display_name": "Julia 1.9.3",
   "language": "julia",
   "name": "julia-1.9"
  },
  "language_info": {
   "file_extension": ".jl",
   "mimetype": "application/julia",
   "name": "julia",
   "version": "1.9.3"
  }
 },
 "nbformat": 4,
 "nbformat_minor": 2
}
